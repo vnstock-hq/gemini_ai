{
 "cells": [
  {
   "cell_type": "code",
   "execution_count": null,
   "metadata": {},
   "outputs": [],
   "source": [
    "from gemini.gemini import GeminiAI\n",
    "\n",
    "# Initialize the AI with your API key\n",
    "gemini = GeminiAI(api_key=\"YOUR_API_KEY\")\n",
    "\n",
    "# Configure model settings\n",
    "gemini.config(temp=0.7, top_p=0.9)\n",
    "\n",
    "# Start a chat session\n",
    "gemini.start_chat(instruction=\"Tell me about recent advancements in AI\")\n",
    "\n",
    "# Send a prompt and generate a response\n",
    "gemini.send_message(\"What's the future of AI?\")\n",
    "gemini.generate(\"Can you explain the role of AI in healthcare?\")\n",
    "\n",
    "# Display chat history\n",
    "gemini.history()\n",
    "\n",
    "# Upload a file to Gemini (Colab only)\n",
    "file_uri = gemini.upload_to_gemini(\"/path/to/your/file.txt\")\n",
    "print(f\"File uploaded to Gemini with URI: {file_uri}\")"
   ]
  }
 ],
 "metadata": {
  "language_info": {
   "name": "python"
  }
 },
 "nbformat": 4,
 "nbformat_minor": 2
}
