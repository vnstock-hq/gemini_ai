{
  "cells": [
    {
      "cell_type": "markdown",
      "metadata": {
        "id": "C6bjRkMaYeyS"
      },
      "source": [
        "<a target=\"_blank\" href=\"https://colab.research.google.com/github//vnstock-hq/gemini_ai/blob/main/docs/gemini_ai_demo_notebook.ipynb\">\n",
        "  <img src=\"https://colab.research.google.com/assets/colab-badge.svg\" alt=\"Open In Colab\"/>\n",
        "</a>"
      ]
    },
    {
      "cell_type": "code",
      "execution_count": null,
      "metadata": {
        "id": "BxHVdtebVUij"
      },
      "outputs": [],
      "source": [
        "!pip install gemini_ai\n",
        "!pip install vnstock3"
      ]
    },
    {
      "cell_type": "code",
      "execution_count": 3,
      "metadata": {
        "id": "zrOvxofLU-9H"
      },
      "outputs": [],
      "source": [
        "# Read Gemini's API token from Google Colab secrets. Obtain your token at https://aistudio.google.com/app/apikey.\n",
        "\n",
        "from google.colab import userdata\n",
        "GEMINI_TK = userdata.get('gemini_tk_tvb')"
      ]
    },
    {
      "cell_type": "markdown",
      "metadata": {
        "id": "8XfuM_vvX20r"
      },
      "source": [
        "## Basic usages"
      ]
    },
    {
      "cell_type": "code",
      "execution_count": 4,
      "metadata": {
        "colab": {
          "base_uri": "https://localhost:8080/"
        },
        "id": "RixRrnQSU8nc",
        "outputId": "9e6f41ef-0d00-4938-e12d-bee6b9219279"
      },
      "outputs": [
        {
          "name": "stdout",
          "output_type": "stream",
          "text": [
            "Running on Colab\n",
            "Unknown environment\n"
          ]
        }
      ],
      "source": [
        "from gemini_ai.gemini import GeminiAI\n",
        "\n",
        "# Initialize the AI with your API key\n",
        "gemini = GeminiAI(api_key=GEMINI_TK)\n",
        "\n",
        "# Configure model settings\n",
        "gemini.config(temp=0.7, top_p=0.9)\n",
        "\n",
        "# Start a chat session\n",
        "gemini.start_chat(instruction=\"Act as the author of the vnstock Python package, an API tool designed to provide comprehensive stock data for Vietnam's market. Help the user understand and explain features, usage, and examples of vnstock, including setup instructions, data retrieval capabilities, and typical use cases for stock analysis.\")"
      ]
    },
    {
      "cell_type": "code",
      "execution_count": 5,
      "metadata": {
        "colab": {
          "base_uri": "https://localhost:8080/",
          "height": 1000
        },
        "id": "wqTjpuL3V3i6",
        "outputId": "17d7c33f-a2e2-4e13-d995-6e8e219d94ff"
      },
      "outputs": [
        {
          "data": {
            "text/markdown": [
              "Tokens in prompt: total_tokens: 8\n"
            ],
            "text/plain": [
              "<IPython.core.display.Markdown object>"
            ]
          },
          "metadata": {},
          "output_type": "display_data"
        },
        {
          "data": {
            "text/markdown": [
              "## vnstock: Your Python Toolkit for Vietnam's Stock Market Data\n",
              "\n",
              "**vnstock** is a Python package designed to provide a comprehensive and user-friendly interface to access real-time and historical data for Vietnam's stock market. It simplifies the process of retrieving data from various sources, allowing you to focus on analysis and insights.\n",
              "\n",
              "**Key Features:**\n",
              "\n",
              "* **Real-time and Historical Data:** Access live stock prices, historical data, and fundamental information like financial statements, dividends, and more.\n",
              "* **Multiple Data Sources:** Retrieve data from reputable sources like the Ho Chi Minh Stock Exchange (HOSE), the Hanoi Stock Exchange (HNX), and other relevant financial platforms.\n",
              "* **Easy Integration:** vnstock is built with simplicity in mind, offering intuitive functions and clear documentation to streamline your data retrieval process.\n",
              "* **Data Manipulation and Analysis:** vnstock offers tools for data cleaning, filtering, and analysis, allowing you to easily process and extract insights from the retrieved data.\n",
              "* **Customizable Options:** Tailor your data requests to meet specific needs, including filtering by date range, symbol, and other criteria.\n",
              "\n",
              "**Getting Started:**\n",
              "\n",
              "1. **Installation:** Install vnstock using pip:\n",
              "\n",
              "   ```bash\n",
              "   pip install vnstock\n",
              "   ```\n",
              "\n",
              "2. **Import and Initialize:** Import the necessary modules and initialize the vnstock object:\n",
              "\n",
              "   ```python\n",
              "   from vnstock import vnstock\n",
              "   \n",
              "   # Initialize vnstock object\n",
              "   vn = vnstock()\n",
              "   ```\n",
              "\n",
              "**Data Retrieval Examples:**\n",
              "\n",
              "1. **Get Real-time Stock Price:**\n",
              "\n",
              "   ```python\n",
              "   # Get the current price of VNM (Vinamilk)\n",
              "   price = vn.get_realtime_price(\"VNM\")\n",
              "   print(f\"Current price of VNM: {price}\")\n",
              "   ```\n",
              "\n",
              "2. **Retrieve Historical Price Data:**\n",
              "\n",
              "   ```python\n",
              "   # Get historical closing prices for VNM from 2022-01-01 to 2022-12-31\n",
              "   data = vn.get_historical_data(\"VNM\", start_date=\"2022-01-01\", end_date=\"2022-12-31\")\n",
              "   print(data)\n",
              "   ```\n",
              "\n",
              "3. **Access Fundamental Data:**\n",
              "\n",
              "   ```python\n",
              "   # Get financial statements for VNM\n",
              "   financials = vn.get_financials(\"VNM\")\n",
              "   print(financials)\n",
              "   ```\n",
              "\n",
              "**Typical Use Cases:**\n",
              "\n",
              "* **Stock Screening:** Identify potential investment opportunities based on various criteria, such as price-to-earnings ratio, dividend yield, and growth rates.\n",
              "* **Portfolio Management:** Track the performance of your portfolio, analyze risk and return, and make informed investment decisions.\n",
              "* **Market Analysis:** Understand market trends, identify sector-specific opportunities, and gain insights into the overall economic climate.\n",
              "* **Technical Analysis:** Use historical price data to identify patterns, trends, and potential trading signals.\n",
              "* **Quantitative Analysis:** Develop and test quantitative models for investment strategies and risk management.\n",
              "\n",
              "**Documentation and Resources:**\n",
              "\n",
              "For detailed documentation, examples, and a complete list of available functions, please refer to the official vnstock documentation: [Link to documentation]\n",
              "\n",
              "**Contribute to vnstock:**\n",
              "\n",
              "We welcome contributions to improve vnstock and expand its capabilities. If you have any suggestions, bug reports, or would like to contribute code, please visit our GitHub repository: [Link to GitHub repository]\n",
              "\n",
              "**vnstock** empowers you with the tools and data you need to navigate Vietnam's stock market with confidence. Start exploring today and unlock the potential of Vietnamese equities!\n"
            ],
            "text/plain": [
              "<IPython.core.display.Markdown object>"
            ]
          },
          "metadata": {},
          "output_type": "display_data"
        }
      ],
      "source": [
        "# Send a prompt and generate a response\n",
        "gemini.send_message(\"Tell me all about vnstock python package\")"
      ]
    },
    {
      "cell_type": "code",
      "execution_count": null,
      "metadata": {
        "colab": {
          "base_uri": "https://localhost:8080/",
          "height": 747
        },
        "id": "3MFEA6khWAkc",
        "outputId": "f68e4246-163d-4635-c6b7-6b29a62302b6"
      },
      "outputs": [
        {
          "data": {
            "text/markdown": [
              "Tokens in prompt: total_tokens: 10\n"
            ],
            "text/plain": [
              "<IPython.core.display.Markdown object>"
            ]
          },
          "metadata": {},
          "output_type": "display_data"
        },
        {
          "data": {
            "text/markdown": [
              "Tokens in prompt: total_tokens: 10\n"
            ],
            "text/plain": [
              "<IPython.core.display.Markdown object>"
            ]
          },
          "metadata": {},
          "output_type": "display_data"
        },
        {
          "data": {
            "text/markdown": [
              "## The Role of AI in Healthcare: A Revolution in Progress\n",
              "\n",
              "Artificial intelligence (AI) is rapidly transforming healthcare, offering a wide range of benefits across various aspects:\n",
              "\n",
              "**1. Diagnosis and Treatment:**\n",
              "\n",
              "* **Image Analysis:** AI can analyze medical images (X-rays, MRIs, CT scans) to detect abnormalities and assist in diagnosis, often with higher accuracy than human experts.\n",
              "* **Early Disease Detection:** AI algorithms can identify patterns in data, enabling early detection of diseases like cancer, heart disease, and diabetes, leading to more effective treatment.\n",
              "* **Personalized Treatment Plans:** AI can analyze patient data to create personalized treatment plans based on individual needs, genetics, and lifestyle.\n",
              "* **Drug Discovery:** AI is accelerating drug discovery by analyzing vast datasets to identify promising drug candidates and optimize clinical trials.\n",
              "\n",
              "**2. Patient Care and Management:**\n",
              "\n",
              "* **Virtual Assistants:** AI-powered chatbots can provide 24/7 patient support, answer questions, schedule appointments, and remind patients about medication.\n",
              "* **Remote Monitoring:** AI can analyze data from wearable devices and home health sensors to monitor patient health remotely and alert healthcare providers in case of emergencies.\n",
              "* **Predictive Analytics:** AI can predict patient outcomes based on historical data, helping healthcare providers identify patients at risk and intervene proactively.\n",
              "* **Robotics:** AI-powered robots can assist surgeons in complex procedures, perform routine tasks like delivering medication, and provide companionship to patients.\n",
              "\n",
              "**3. Administrative and Operational Efficiency:**\n",
              "\n",
              "* **Data Management:** AI can streamline data management processes, automate administrative tasks, and improve efficiency in healthcare operations.\n",
              "* **Financial Management:** AI can analyze financial data to optimize resource allocation, identify potential fraud, and improve cost-effectiveness.\n",
              "* **Workflow Optimization:** AI can analyze workflow patterns and identify bottlenecks, leading to improved efficiency and reduced wait times.\n",
              "\n",
              "**Challenges and Considerations:**\n",
              "\n",
              "* **Data Privacy and Security:** Ensuring the responsible use and protection of sensitive patient data is crucial.\n",
              "* **Bias and Fairness:** AI algorithms can perpetuate existing biases in healthcare data, leading to unfair treatment.\n",
              "* **Ethical Considerations:** The use of AI in healthcare raises ethical questions about decision-making autonomy, accountability, and the potential for job displacement.\n",
              "\n",
              "**The Future of AI in Healthcare:**\n",
              "\n",
              "AI is poised to revolutionize healthcare, leading to:\n",
              "\n",
              "* **More accurate and efficient diagnoses.**\n",
              "* **Personalized and proactive patient care.**\n",
              "* **Improved access to healthcare.**\n",
              "* **Reduced costs and increased efficiency.**\n",
              "\n",
              "However, it's important to address the challenges and ensure responsible and ethical implementation to maximize the benefits of AI in healthcare. \n"
            ],
            "text/plain": [
              "<IPython.core.display.Markdown object>"
            ]
          },
          "metadata": {},
          "output_type": "display_data"
        }
      ],
      "source": [
        "gemini.generate(\"Can you explain the role of AI in healthcare?\")"
      ]
    },
    {
      "cell_type": "code",
      "execution_count": null,
      "metadata": {
        "colab": {
          "base_uri": "https://localhost:8080/",
          "height": 919
        },
        "id": "FHNgnpzKWE1j",
        "outputId": "321050c2-8d62-4822-bbf7-0d72678606a6"
      },
      "outputs": [
        {
          "data": {
            "text/markdown": [
              "**user**: Tell me about the vnstock python package"
            ],
            "text/plain": [
              "<IPython.core.display.Markdown object>"
            ]
          },
          "metadata": {},
          "output_type": "display_data"
        },
        {
          "data": {
            "text/markdown": [
              "**user**: What is vnstock?"
            ],
            "text/plain": [
              "<IPython.core.display.Markdown object>"
            ]
          },
          "metadata": {},
          "output_type": "display_data"
        },
        {
          "data": {
            "text/markdown": [
              "**model**: \"vnstock\" is not a recognized Python package. It's possible that:\n",
              "\n",
              "* **It's a custom or internal package:** The package might be developed by a specific company or individual and not publicly available.\n",
              "* **There's a typo:** Perhaps you meant a different package name. Could you double-check the spelling?\n",
              "* **It's a new package:** It's possible the package is very new and hasn't gained widespread recognition yet. \n",
              "\n",
              "To help me understand what you're looking for, please provide more context:\n",
              "\n",
              "* **What is the purpose of the package?** What kind of functionality are you expecting from it?\n",
              "* **Where did you encounter this package name?** Was it mentioned in a blog post, documentation, or a code repository?\n",
              "\n",
              "With more information, I can assist you better. \n"
            ],
            "text/plain": [
              "<IPython.core.display.Markdown object>"
            ]
          },
          "metadata": {},
          "output_type": "display_data"
        },
        {
          "data": {
            "text/markdown": [
              "**user**: Can you explain the role of AI in healthcare?"
            ],
            "text/plain": [
              "<IPython.core.display.Markdown object>"
            ]
          },
          "metadata": {},
          "output_type": "display_data"
        },
        {
          "data": {
            "text/markdown": [
              "**model**: ## The Role of AI in Healthcare: A Revolution in Progress\n",
              "\n",
              "Artificial intelligence (AI) is rapidly transforming healthcare, offering a wide range of benefits across various aspects:\n",
              "\n",
              "**1. Diagnosis and Treatment:**\n",
              "\n",
              "* **Image Analysis:** AI can analyze medical images (X-rays, MRIs, CT scans) to detect abnormalities and assist in diagnosis, often with higher accuracy than human experts.\n",
              "* **Early Disease Detection:** AI algorithms can identify patterns in data, enabling early detection of diseases like cancer, heart disease, and diabetes, leading to more effective treatment.\n",
              "* **Personalized Treatment Plans:** AI can analyze patient data to create personalized treatment plans based on individual needs, genetics, and lifestyle.\n",
              "* **Drug Discovery:** AI is accelerating drug discovery by analyzing vast datasets to identify promising drug candidates and optimize clinical trials.\n",
              "\n",
              "**2. Patient Care and Management:**\n",
              "\n",
              "* **Virtual Assistants:** AI-powered chatbots can provide 24/7 patient support, answer questions, schedule appointments, and remind patients about medication.\n",
              "* **Remote Monitoring:** AI can analyze data from wearable devices and home health sensors to monitor patient health remotely and alert healthcare providers in case of emergencies.\n",
              "* **Predictive Analytics:** AI can predict patient outcomes based on historical data, helping healthcare providers identify patients at risk and intervene proactively.\n",
              "* **Robotics:** AI-powered robots can assist surgeons in complex procedures, perform routine tasks like delivering medication, and provide companionship to patients.\n",
              "\n",
              "**3. Administrative and Operational Efficiency:**\n",
              "\n",
              "* **Data Management:** AI can streamline data management processes, automate administrative tasks, and improve efficiency in healthcare operations.\n",
              "* **Financial Management:** AI can analyze financial data to optimize resource allocation, identify potential fraud, and improve cost-effectiveness.\n",
              "* **Workflow Optimization:** AI can analyze workflow patterns and identify bottlenecks, leading to improved efficiency and reduced wait times.\n",
              "\n",
              "**Challenges and Considerations:**\n",
              "\n",
              "* **Data Privacy and Security:** Ensuring the responsible use and protection of sensitive patient data is crucial.\n",
              "* **Bias and Fairness:** AI algorithms can perpetuate existing biases in healthcare data, leading to unfair treatment.\n",
              "* **Ethical Considerations:** The use of AI in healthcare raises ethical questions about decision-making autonomy, accountability, and the potential for job displacement.\n",
              "\n",
              "**The Future of AI in Healthcare:**\n",
              "\n",
              "AI is poised to revolutionize healthcare, leading to:\n",
              "\n",
              "* **More accurate and efficient diagnoses.**\n",
              "* **Personalized and proactive patient care.**\n",
              "* **Improved access to healthcare.**\n",
              "* **Reduced costs and increased efficiency.**\n",
              "\n",
              "However, it's important to address the challenges and ensure responsible and ethical implementation to maximize the benefits of AI in healthcare. \n"
            ],
            "text/plain": [
              "<IPython.core.display.Markdown object>"
            ]
          },
          "metadata": {},
          "output_type": "display_data"
        }
      ],
      "source": [
        "# Display chat history\n",
        "gemini.history()"
      ]
    },
    {
      "cell_type": "markdown",
      "metadata": {
        "id": "rcZx8Vr2YPJ9"
      },
      "source": [
        "# Work with Vnstock3"
      ]
    },
    {
      "cell_type": "code",
      "execution_count": null,
      "metadata": {
        "id": "hlB9nW7JXlKA"
      },
      "outputs": [],
      "source": [
        "from vnstock3 import Vnstock\n",
        "stock = Vnstock().stock(symbol='VCI', source='VCI')"
      ]
    },
    {
      "cell_type": "code",
      "execution_count": 7,
      "metadata": {
        "colab": {
          "base_uri": "https://localhost:8080/",
          "height": 342
        },
        "id": "sUuNjZ5VXuIx",
        "outputId": "069f6389-2b4d-46f7-e2e3-a4551d311d8f"
      },
      "outputs": [
        {
          "data": {
            "application/vnd.google.colaboratory.intrinsic+json": {
              "type": "dataframe",
              "variable_name": "income_df"
            },
            "text/html": [
              "\n",
              "  <div id=\"df-0c1f9e63-e7ab-44df-97dc-60e15d786863\" class=\"colab-df-container\">\n",
              "    <div>\n",
              "<style scoped>\n",
              "    .dataframe tbody tr th:only-of-type {\n",
              "        vertical-align: middle;\n",
              "    }\n",
              "\n",
              "    .dataframe tbody tr th {\n",
              "        vertical-align: top;\n",
              "    }\n",
              "\n",
              "    .dataframe thead th {\n",
              "        text-align: right;\n",
              "    }\n",
              "</style>\n",
              "<table border=\"1\" class=\"dataframe\">\n",
              "  <thead>\n",
              "    <tr style=\"text-align: right;\">\n",
              "      <th></th>\n",
              "      <th>CP</th>\n",
              "      <th>Năm</th>\n",
              "      <th>Kỳ</th>\n",
              "      <th>Cổ đông thiểu số</th>\n",
              "      <th>Cổ đông thiểu số</th>\n",
              "      <th>Cổ đông thiểu số</th>\n",
              "      <th>Cổ đông thiểu số</th>\n",
              "      <th>Lãi/Lỗ ròng trước thuế</th>\n",
              "      <th>Tăng trưởng doanh thu (%)</th>\n",
              "      <th>Doanh thu (Tỷ đồng)</th>\n",
              "      <th>...</th>\n",
              "      <th>Doanh thu bán hàng và cung cấp dịch vụ</th>\n",
              "      <th>Thu nhập khác</th>\n",
              "      <th>Lợi nhuận khác</th>\n",
              "      <th>LN trước thuế</th>\n",
              "      <th>Thuế TNDN</th>\n",
              "      <th>Chi phí thuế TNDN hiện hành</th>\n",
              "      <th>Chi phí thuế TNDN hoãn lại</th>\n",
              "      <th>Lợi nhuận thuần</th>\n",
              "      <th>Cổ đông của Công ty mẹ</th>\n",
              "      <th>Lãi cơ bản trên cổ phiếu</th>\n",
              "    </tr>\n",
              "  </thead>\n",
              "  <tbody>\n",
              "    <tr>\n",
              "      <th>0</th>\n",
              "      <td>VCI</td>\n",
              "      <td>2024</td>\n",
              "      <td>3</td>\n",
              "      <td>0</td>\n",
              "      <td>0</td>\n",
              "      <td>0</td>\n",
              "      <td>0</td>\n",
              "      <td>2.646954e+11</td>\n",
              "      <td>0.461496</td>\n",
              "      <td>974360554621</td>\n",
              "      <td>...</td>\n",
              "      <td>974360554621</td>\n",
              "      <td>0</td>\n",
              "      <td>0</td>\n",
              "      <td>264695399242</td>\n",
              "      <td>-4.934317e+10</td>\n",
              "      <td>-40189361297</td>\n",
              "      <td>-9153812770</td>\n",
              "      <td>215352225175</td>\n",
              "      <td>215352225175</td>\n",
              "      <td>0</td>\n",
              "    </tr>\n",
              "    <tr>\n",
              "      <th>1</th>\n",
              "      <td>VCI</td>\n",
              "      <td>2024</td>\n",
              "      <td>2</td>\n",
              "      <td>0</td>\n",
              "      <td>0</td>\n",
              "      <td>0</td>\n",
              "      <td>0</td>\n",
              "      <td>3.437661e+11</td>\n",
              "      <td>0.828529</td>\n",
              "      <td>915851554761</td>\n",
              "      <td>...</td>\n",
              "      <td>915851554761</td>\n",
              "      <td>2837985204</td>\n",
              "      <td>2826585413</td>\n",
              "      <td>343766121537</td>\n",
              "      <td>-6.455944e+10</td>\n",
              "      <td>-64821621464</td>\n",
              "      <td>262179824</td>\n",
              "      <td>279206679897</td>\n",
              "      <td>279206679897</td>\n",
              "      <td>0</td>\n",
              "    </tr>\n",
              "    <tr>\n",
              "      <th>2</th>\n",
              "      <td>VCI</td>\n",
              "      <td>2024</td>\n",
              "      <td>1</td>\n",
              "      <td>0</td>\n",
              "      <td>0</td>\n",
              "      <td>0</td>\n",
              "      <td>0</td>\n",
              "      <td>2.275405e+11</td>\n",
              "      <td>0.615187</td>\n",
              "      <td>806317375461</td>\n",
              "      <td>...</td>\n",
              "      <td>806317375461</td>\n",
              "      <td>232524110</td>\n",
              "      <td>-62475890</td>\n",
              "      <td>227540468148</td>\n",
              "      <td>-2.978401e+10</td>\n",
              "      <td>-37710331505</td>\n",
              "      <td>7926325750</td>\n",
              "      <td>197756462393</td>\n",
              "      <td>197756462393</td>\n",
              "      <td>0</td>\n",
              "    </tr>\n",
              "    <tr>\n",
              "      <th>3</th>\n",
              "      <td>VCI</td>\n",
              "      <td>2023</td>\n",
              "      <td>4</td>\n",
              "      <td>0</td>\n",
              "      <td>0</td>\n",
              "      <td>0</td>\n",
              "      <td>0</td>\n",
              "      <td>1.491318e+11</td>\n",
              "      <td>0.011994</td>\n",
              "      <td>805695933425</td>\n",
              "      <td>...</td>\n",
              "      <td>805695933425</td>\n",
              "      <td>16990909</td>\n",
              "      <td>13012123</td>\n",
              "      <td>149131831394</td>\n",
              "      <td>-2.618133e+10</td>\n",
              "      <td>-7570702516</td>\n",
              "      <td>-18610626203</td>\n",
              "      <td>122950502675</td>\n",
              "      <td>122950502675</td>\n",
              "      <td>0</td>\n",
              "    </tr>\n",
              "    <tr>\n",
              "      <th>4</th>\n",
              "      <td>VCI</td>\n",
              "      <td>2023</td>\n",
              "      <td>3</td>\n",
              "      <td>0</td>\n",
              "      <td>0</td>\n",
              "      <td>0</td>\n",
              "      <td>0</td>\n",
              "      <td>2.095692e+11</td>\n",
              "      <td>0.278113</td>\n",
              "      <td>666686976459</td>\n",
              "      <td>...</td>\n",
              "      <td>666686976459</td>\n",
              "      <td>95890411</td>\n",
              "      <td>95890411</td>\n",
              "      <td>209569229621</td>\n",
              "      <td>-3.056605e+10</td>\n",
              "      <td>-33158501552</td>\n",
              "      <td>2592446586</td>\n",
              "      <td>179003174655</td>\n",
              "      <td>179003174655</td>\n",
              "      <td>0</td>\n",
              "    </tr>\n",
              "  </tbody>\n",
              "</table>\n",
              "<p>5 rows × 38 columns</p>\n",
              "</div>\n",
              "    <div class=\"colab-df-buttons\">\n",
              "\n",
              "  <div class=\"colab-df-container\">\n",
              "    <button class=\"colab-df-convert\" onclick=\"convertToInteractive('df-0c1f9e63-e7ab-44df-97dc-60e15d786863')\"\n",
              "            title=\"Convert this dataframe to an interactive table.\"\n",
              "            style=\"display:none;\">\n",
              "\n",
              "  <svg xmlns=\"http://www.w3.org/2000/svg\" height=\"24px\" viewBox=\"0 -960 960 960\">\n",
              "    <path d=\"M120-120v-720h720v720H120Zm60-500h600v-160H180v160Zm220 220h160v-160H400v160Zm0 220h160v-160H400v160ZM180-400h160v-160H180v160Zm440 0h160v-160H620v160ZM180-180h160v-160H180v160Zm440 0h160v-160H620v160Z\"/>\n",
              "  </svg>\n",
              "    </button>\n",
              "\n",
              "  <style>\n",
              "    .colab-df-container {\n",
              "      display:flex;\n",
              "      gap: 12px;\n",
              "    }\n",
              "\n",
              "    .colab-df-convert {\n",
              "      background-color: #E8F0FE;\n",
              "      border: none;\n",
              "      border-radius: 50%;\n",
              "      cursor: pointer;\n",
              "      display: none;\n",
              "      fill: #1967D2;\n",
              "      height: 32px;\n",
              "      padding: 0 0 0 0;\n",
              "      width: 32px;\n",
              "    }\n",
              "\n",
              "    .colab-df-convert:hover {\n",
              "      background-color: #E2EBFA;\n",
              "      box-shadow: 0px 1px 2px rgba(60, 64, 67, 0.3), 0px 1px 3px 1px rgba(60, 64, 67, 0.15);\n",
              "      fill: #174EA6;\n",
              "    }\n",
              "\n",
              "    .colab-df-buttons div {\n",
              "      margin-bottom: 4px;\n",
              "    }\n",
              "\n",
              "    [theme=dark] .colab-df-convert {\n",
              "      background-color: #3B4455;\n",
              "      fill: #D2E3FC;\n",
              "    }\n",
              "\n",
              "    [theme=dark] .colab-df-convert:hover {\n",
              "      background-color: #434B5C;\n",
              "      box-shadow: 0px 1px 3px 1px rgba(0, 0, 0, 0.15);\n",
              "      filter: drop-shadow(0px 1px 2px rgba(0, 0, 0, 0.3));\n",
              "      fill: #FFFFFF;\n",
              "    }\n",
              "  </style>\n",
              "\n",
              "    <script>\n",
              "      const buttonEl =\n",
              "        document.querySelector('#df-0c1f9e63-e7ab-44df-97dc-60e15d786863 button.colab-df-convert');\n",
              "      buttonEl.style.display =\n",
              "        google.colab.kernel.accessAllowed ? 'block' : 'none';\n",
              "\n",
              "      async function convertToInteractive(key) {\n",
              "        const element = document.querySelector('#df-0c1f9e63-e7ab-44df-97dc-60e15d786863');\n",
              "        const dataTable =\n",
              "          await google.colab.kernel.invokeFunction('convertToInteractive',\n",
              "                                                    [key], {});\n",
              "        if (!dataTable) return;\n",
              "\n",
              "        const docLinkHtml = 'Like what you see? Visit the ' +\n",
              "          '<a target=\"_blank\" href=https://colab.research.google.com/notebooks/data_table.ipynb>data table notebook</a>'\n",
              "          + ' to learn more about interactive tables.';\n",
              "        element.innerHTML = '';\n",
              "        dataTable['output_type'] = 'display_data';\n",
              "        await google.colab.output.renderOutput(dataTable, element);\n",
              "        const docLink = document.createElement('div');\n",
              "        docLink.innerHTML = docLinkHtml;\n",
              "        element.appendChild(docLink);\n",
              "      }\n",
              "    </script>\n",
              "  </div>\n",
              "\n",
              "\n",
              "<div id=\"df-8d1b8339-ac89-4f57-a0f8-225f9f10b12b\">\n",
              "  <button class=\"colab-df-quickchart\" onclick=\"quickchart('df-8d1b8339-ac89-4f57-a0f8-225f9f10b12b')\"\n",
              "            title=\"Suggest charts\"\n",
              "            style=\"display:none;\">\n",
              "\n",
              "<svg xmlns=\"http://www.w3.org/2000/svg\" height=\"24px\"viewBox=\"0 0 24 24\"\n",
              "     width=\"24px\">\n",
              "    <g>\n",
              "        <path d=\"M19 3H5c-1.1 0-2 .9-2 2v14c0 1.1.9 2 2 2h14c1.1 0 2-.9 2-2V5c0-1.1-.9-2-2-2zM9 17H7v-7h2v7zm4 0h-2V7h2v10zm4 0h-2v-4h2v4z\"/>\n",
              "    </g>\n",
              "</svg>\n",
              "  </button>\n",
              "\n",
              "<style>\n",
              "  .colab-df-quickchart {\n",
              "      --bg-color: #E8F0FE;\n",
              "      --fill-color: #1967D2;\n",
              "      --hover-bg-color: #E2EBFA;\n",
              "      --hover-fill-color: #174EA6;\n",
              "      --disabled-fill-color: #AAA;\n",
              "      --disabled-bg-color: #DDD;\n",
              "  }\n",
              "\n",
              "  [theme=dark] .colab-df-quickchart {\n",
              "      --bg-color: #3B4455;\n",
              "      --fill-color: #D2E3FC;\n",
              "      --hover-bg-color: #434B5C;\n",
              "      --hover-fill-color: #FFFFFF;\n",
              "      --disabled-bg-color: #3B4455;\n",
              "      --disabled-fill-color: #666;\n",
              "  }\n",
              "\n",
              "  .colab-df-quickchart {\n",
              "    background-color: var(--bg-color);\n",
              "    border: none;\n",
              "    border-radius: 50%;\n",
              "    cursor: pointer;\n",
              "    display: none;\n",
              "    fill: var(--fill-color);\n",
              "    height: 32px;\n",
              "    padding: 0;\n",
              "    width: 32px;\n",
              "  }\n",
              "\n",
              "  .colab-df-quickchart:hover {\n",
              "    background-color: var(--hover-bg-color);\n",
              "    box-shadow: 0 1px 2px rgba(60, 64, 67, 0.3), 0 1px 3px 1px rgba(60, 64, 67, 0.15);\n",
              "    fill: var(--button-hover-fill-color);\n",
              "  }\n",
              "\n",
              "  .colab-df-quickchart-complete:disabled,\n",
              "  .colab-df-quickchart-complete:disabled:hover {\n",
              "    background-color: var(--disabled-bg-color);\n",
              "    fill: var(--disabled-fill-color);\n",
              "    box-shadow: none;\n",
              "  }\n",
              "\n",
              "  .colab-df-spinner {\n",
              "    border: 2px solid var(--fill-color);\n",
              "    border-color: transparent;\n",
              "    border-bottom-color: var(--fill-color);\n",
              "    animation:\n",
              "      spin 1s steps(1) infinite;\n",
              "  }\n",
              "\n",
              "  @keyframes spin {\n",
              "    0% {\n",
              "      border-color: transparent;\n",
              "      border-bottom-color: var(--fill-color);\n",
              "      border-left-color: var(--fill-color);\n",
              "    }\n",
              "    20% {\n",
              "      border-color: transparent;\n",
              "      border-left-color: var(--fill-color);\n",
              "      border-top-color: var(--fill-color);\n",
              "    }\n",
              "    30% {\n",
              "      border-color: transparent;\n",
              "      border-left-color: var(--fill-color);\n",
              "      border-top-color: var(--fill-color);\n",
              "      border-right-color: var(--fill-color);\n",
              "    }\n",
              "    40% {\n",
              "      border-color: transparent;\n",
              "      border-right-color: var(--fill-color);\n",
              "      border-top-color: var(--fill-color);\n",
              "    }\n",
              "    60% {\n",
              "      border-color: transparent;\n",
              "      border-right-color: var(--fill-color);\n",
              "    }\n",
              "    80% {\n",
              "      border-color: transparent;\n",
              "      border-right-color: var(--fill-color);\n",
              "      border-bottom-color: var(--fill-color);\n",
              "    }\n",
              "    90% {\n",
              "      border-color: transparent;\n",
              "      border-bottom-color: var(--fill-color);\n",
              "    }\n",
              "  }\n",
              "</style>\n",
              "\n",
              "  <script>\n",
              "    async function quickchart(key) {\n",
              "      const quickchartButtonEl =\n",
              "        document.querySelector('#' + key + ' button');\n",
              "      quickchartButtonEl.disabled = true;  // To prevent multiple clicks.\n",
              "      quickchartButtonEl.classList.add('colab-df-spinner');\n",
              "      try {\n",
              "        const charts = await google.colab.kernel.invokeFunction(\n",
              "            'suggestCharts', [key], {});\n",
              "      } catch (error) {\n",
              "        console.error('Error during call to suggestCharts:', error);\n",
              "      }\n",
              "      quickchartButtonEl.classList.remove('colab-df-spinner');\n",
              "      quickchartButtonEl.classList.add('colab-df-quickchart-complete');\n",
              "    }\n",
              "    (() => {\n",
              "      let quickchartButtonEl =\n",
              "        document.querySelector('#df-8d1b8339-ac89-4f57-a0f8-225f9f10b12b button');\n",
              "      quickchartButtonEl.style.display =\n",
              "        google.colab.kernel.accessAllowed ? 'block' : 'none';\n",
              "    })();\n",
              "  </script>\n",
              "</div>\n",
              "\n",
              "    </div>\n",
              "  </div>\n"
            ],
            "text/plain": [
              "    CP   Năm  Kỳ  Cổ đông thiểu số  Cổ đông thiểu số  Cổ đông thiểu số  \\\n",
              "0  VCI  2024   3                 0                 0                 0   \n",
              "1  VCI  2024   2                 0                 0                 0   \n",
              "2  VCI  2024   1                 0                 0                 0   \n",
              "3  VCI  2023   4                 0                 0                 0   \n",
              "4  VCI  2023   3                 0                 0                 0   \n",
              "\n",
              "   Cổ đông thiểu số  Lãi/Lỗ ròng trước thuế  Tăng trưởng doanh thu (%)  \\\n",
              "0                 0            2.646954e+11                   0.461496   \n",
              "1                 0            3.437661e+11                   0.828529   \n",
              "2                 0            2.275405e+11                   0.615187   \n",
              "3                 0            1.491318e+11                   0.011994   \n",
              "4                 0            2.095692e+11                   0.278113   \n",
              "\n",
              "   Doanh thu (Tỷ đồng)  ...  Doanh thu bán hàng và cung cấp dịch vụ  \\\n",
              "0         974360554621  ...                            974360554621   \n",
              "1         915851554761  ...                            915851554761   \n",
              "2         806317375461  ...                            806317375461   \n",
              "3         805695933425  ...                            805695933425   \n",
              "4         666686976459  ...                            666686976459   \n",
              "\n",
              "   Thu nhập khác  Lợi nhuận khác  LN trước thuế     Thuế TNDN  \\\n",
              "0              0               0   264695399242 -4.934317e+10   \n",
              "1     2837985204      2826585413   343766121537 -6.455944e+10   \n",
              "2      232524110       -62475890   227540468148 -2.978401e+10   \n",
              "3       16990909        13012123   149131831394 -2.618133e+10   \n",
              "4       95890411        95890411   209569229621 -3.056605e+10   \n",
              "\n",
              "   Chi phí thuế TNDN hiện hành  Chi phí thuế TNDN hoãn lại  Lợi nhuận thuần  \\\n",
              "0                 -40189361297                 -9153812770     215352225175   \n",
              "1                 -64821621464                   262179824     279206679897   \n",
              "2                 -37710331505                  7926325750     197756462393   \n",
              "3                  -7570702516                -18610626203     122950502675   \n",
              "4                 -33158501552                  2592446586     179003174655   \n",
              "\n",
              "   Cổ đông của Công ty mẹ  Lãi cơ bản trên cổ phiếu  \n",
              "0            215352225175                         0  \n",
              "1            279206679897                         0  \n",
              "2            197756462393                         0  \n",
              "3            122950502675                         0  \n",
              "4            179003174655                         0  \n",
              "\n",
              "[5 rows x 38 columns]"
            ]
          },
          "execution_count": 7,
          "metadata": {},
          "output_type": "execute_result"
        }
      ],
      "source": [
        "income_df = stock.finance.income_statement(period='quarter', lang='vi')\n",
        "income_df.head()"
      ]
    },
    {
      "cell_type": "code",
      "execution_count": null,
      "metadata": {
        "id": "4NOwirm3VJN4"
      },
      "outputs": [],
      "source": [
        "# Download sample iamge from vnstock\n",
        "!wget \"https://vnstocks.com/assets/images/cau-truc-tong-quan-vnstock3-b8114fa317804a42f25ff35221816fd9.png\""
      ]
    },
    {
      "cell_type": "code",
      "execution_count": 8,
      "metadata": {
        "colab": {
          "base_uri": "https://localhost:8080/",
          "height": 631
        },
        "id": "-jbyuvceXwlz",
        "outputId": "e03a647d-a9cf-4181-dbf4-8e35d59e92bb"
      },
      "outputs": [
        {
          "data": {
            "text/markdown": [
              "Tokens in prompt: total_tokens: 18659\n"
            ],
            "text/plain": [
              "<IPython.core.display.Markdown object>"
            ]
          },
          "metadata": {},
          "output_type": "display_data"
        },
        {
          "data": {
            "text/markdown": [
              "## Analyzing VCI's Income Statement: A Deep Dive\n",
              "\n",
              "The provided data presents VCI's Income Statement for the past several years.  Let's break down the key insights:\n",
              "\n",
              "**Overall Performance:**\n",
              "\n",
              "* **Revenue Growth:** VCI has shown inconsistent revenue growth, with significant drops in 2023 and 2019. However, 2024 shows a positive trend with a 46% growth in Q3.\n",
              "* **Profitability:** Profitability is also volatile. While there's a clear upward trend in profit after tax for the parent company (2016-2022), 2023 saw a decline. 2024 Q3 shows a promising 20% growth in profit after tax.\n",
              "* **EPS:**  Earnings per share (EPS) shows similar fluctuations to profitability.\n",
              "\n",
              "**Key Drivers:**\n",
              "\n",
              "* **Cost of Goods Sold (COGS):** The substantial COGS suggests VCI operates in a manufacturing or trading-heavy industry.\n",
              "* **Financial Expenses:** High interest expense is a significant factor affecting profitability, indicating potential debt burden.\n",
              "* **Other Income/Expense:** Fluctuations in this category suggest reliance on non-core activities, which could impact overall stability.\n",
              "\n",
              "**Areas of Concern:**\n",
              "\n",
              "* **High Interest Expense:**  The consistently high interest expense raises concerns about VCI's debt levels and potential financial risk.  Further analysis of the company's debt structure and interest rates is needed.\n",
              "* **Revenue Volatility:**  The fluctuating revenue growth suggests potential vulnerability to market conditions and competition.  Understanding the reasons behind the drops in 2023 and 2019 is crucial.\n",
              "* **Dependence on Other Income/Expense:**  The significant fluctuations in other income/expense require closer examination.  This category could potentially mask underlying issues or indicate a lack of consistency in core operations.\n",
              "\n",
              "**Further Analysis:**\n",
              "\n",
              "* **Industry Benchmarking:** Compare VCI's performance to other companies within the same industry to assess its relative position.\n",
              "* **Cash Flow Statement:**  Review VCI's cash flow statement to understand its ability to generate cash, manage debt, and invest in growth.\n",
              "* **Balance Sheet:**  Analyze the company's balance sheet to assess its financial health, asset structure, and liquidity.\n",
              "\n",
              "**Conclusion:**\n",
              "\n",
              "VCI's income statement reveals a company with potential but also significant challenges.  Further analysis is required to gain a deeper understanding of the company's financial health, growth prospects, and risks.  \n",
              "\n",
              "**Disclaimer:** This analysis is based on the provided income statement data and should not be considered financial advice.  Always conduct thorough research and consult with a qualified financial advisor before making any investment decisions.\n"
            ],
            "text/plain": [
              "<IPython.core.display.Markdown object>"
            ]
          },
          "metadata": {},
          "output_type": "display_data"
        }
      ],
      "source": [
        "gemini.send_message(f'Help me analyze the income statement report below for VCI stock in Vietnam. The report in text below {income_df.to_string()}')"
      ]
    },
    {
      "cell_type": "code",
      "execution_count": null,
      "metadata": {
        "id": "W-iQiGdhYHis"
      },
      "outputs": [],
      "source": []
    }
  ],
  "metadata": {
    "colab": {
      "provenance": [],
      "toc_visible": true
    },
    "kernelspec": {
      "display_name": "Python 3",
      "name": "python3"
    },
    "language_info": {
      "name": "python"
    }
  },
  "nbformat": 4,
  "nbformat_minor": 0
}
