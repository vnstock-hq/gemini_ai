{
 "cells": [
  {
   "cell_type": "code",
   "execution_count": 1,
   "metadata": {},
   "outputs": [
    {
     "name": "stdout",
     "output_type": "stream",
     "text": [
      "C:\\Users\\thinh.vv\\OneDrive\\Documents\\aicon\n"
     ]
    }
   ],
   "source": [
    "%cd \"C:\\Users\\thinh.vv\\OneDrive\\Documents\\aicon\""
   ]
  },
  {
   "cell_type": "code",
   "execution_count": 2,
   "metadata": {},
   "outputs": [],
   "source": [
    "# read gemini_tk from creds.yml\n",
    "import yaml\n",
    "with open(\"creds.yml\", 'r') as stream:\n",
    "    creds = yaml.safe_load(stream)\n",
    "    gemini_tk = creds['gemini_tk']\n",
    "\n",
    "BOOK_SUMMARY_INSTRUCTION = \"\"\"\n",
    "In this task, you will help me generate summary of each book provided using the Progressive Summarization technique which advocated by Tiago Forte. \n",
    "\n",
    "# Objective:\n",
    "To generate a concise and informative summary of an ebook, capturing the key themes, concepts, and takeaways from the text.\n",
    "\n",
    "# Steps:\n",
    "## Read the Ebook:\n",
    "- Carefully read the provided ebook content.\n",
    "- Pay special attention to the introduction, conclusion, and chapter summaries as they often highlight the main points.\n",
    "\n",
    "## Identify Key Themes:\n",
    "- Note recurring themes, concepts, and ideas.\n",
    "- Identify the primary arguments or messages conveyed by the author.\n",
    "\n",
    "## Highlight Important Sections:\n",
    "- Highlight sections that provide critical insights or unique perspectives.\n",
    "- Focus on any data, anecdotes, or examples that support the main arguments.\n",
    "\n",
    "## Condense Information:\n",
    "- Summarize each chapter or section into a few key points.\n",
    "- Ensure that the summary captures the essence of the content without omitting essential information.\n",
    "\n",
    "## Synthesize the Summary:\n",
    "- Combine the chapter summaries into a coherent narrative.\n",
    "- Maintain logical flow and coherence throughout the summary.\n",
    "\n",
    "## Review and Refine:\n",
    "- Review the summary to ensure it is accurate and complete.\n",
    "- Refine the language for clarity and conciseness.\n",
    "\n",
    "# Key Points to Include:\n",
    "##Introduction:\n",
    "- Briefly introduce the ebook, including the title, author, and the main purpose of the book.\n",
    "\n",
    "## Main Themes:\n",
    "- List the primary themes or concepts discussed in the book.\n",
    "\n",
    "## Chapter Summaries:\n",
    "- Provide a brief summary of each chapter, focusing on the main ideas and key takeaways.\n",
    "\n",
    "## Key Insights:\n",
    "- Highlight any significant insights, data points, or examples that are crucial to understanding the book's message.\n",
    "\n",
    "## Conclusion:\n",
    "- Summarize the overall conclusion or final thoughts of the book.\n",
    "- Reflect on the implications or applications of the book’s content.\n",
    "\n",
    "# Formatting Guidelines:\n",
    "- Use clear and concise language.\n",
    "- The output must be Vietnamese, whatever the input book content's language.\n",
    "- Using markdown syntax to structure the summary with headings and bullet points for easy reading. \n",
    "- Aim for a summary length that is proportional to the ebook’s length (e.g., a 200-page ebook might have a 2-3 page summary).\n",
    "\n",
    "## Example Template:\n",
    "\n",
    "```\n",
    "# Introduction\n",
    "- Title: [Ebook Title]\n",
    "- Author: [Author Name]\n",
    "- Brief introduction: Brief overview of the book’s purpose and scope.\n",
    "\n",
    "## Main Themes:\n",
    "- Theme 1: [Description]\n",
    "- Theme 2: [Description]\n",
    "- Theme 3: [Description]\n",
    "\n",
    "## Chapter Summaries:\n",
    "### Chapter 1: [Chapter Title]\n",
    "- Executive Summary: The main message has been delivered in a whole chapter.\n",
    "- Key points and takeaways which support to the main message.\n",
    "- Raw quotes or notable highlights which elaborate more on key points\n",
    "\n",
    "(Repeat for each chapter)\n",
    "\n",
    "## Key Insights:\n",
    "### Insight 1: \n",
    "- [Detail]\t\n",
    "### Insight 2: \n",
    "- [Detail]\n",
    "## Conclusion:\n",
    "- Overall summary of the book’s conclusion.\n",
    "- Final thoughts and implications.\n",
    "```\n",
    "\n",
    "# Tips:\n",
    "- Focus on clarity and coherence.\n",
    "- Avoid unnecessary details or overly complex language.\n",
    "\"\"\""
   ]
  },
  {
   "cell_type": "code",
   "execution_count": 3,
   "metadata": {},
   "outputs": [
    {
     "name": "stdout",
     "output_type": "stream",
     "text": [
      "Not running on Colab\n",
      "Uploaded file 'The_Code_of_the_Extraordinary_Mind.txt' as: https://generativelanguage.googleapis.com/v1beta/files/11fpyfbfp4c3\n",
      "Waiting for file processing...\n",
      "...all files ready\n",
      "\n"
     ]
    }
   ],
   "source": [
    "from aiconn.gemini import GeminiAI\n",
    "\n",
    "gemini = GeminiAI(api_key=gemini_tk)\n",
    "gemini.config()\n",
    "\n",
    "# chat = gemini.start_chat(instruction=BOOK_SUMMARY_INSTRUCTION)\n",
    "chat = gemini.start_chat(instruction=BOOK_SUMMARY_INSTRUCTION, file_path=r'C:\\Users\\thinh.vv\\Downloads\\export\\The_Code_of_the_Extraordinary_Mind.txt')"
   ]
  },
  {
   "cell_type": "code",
   "execution_count": 4,
   "metadata": {},
   "outputs": [
    {
     "data": {
      "text/plain": [
       "response:\n",
       "GenerateContentResponse(\n",
       "    done=True,\n",
       "    iterator=None,\n",
       "    result=glm.GenerateContentResponse({\n",
       "      \"candidates\": [\n",
       "        {\n",
       "          \"content\": {\n",
       "            \"parts\": [\n",
       "              {\n",
       "                \"text\": \"## The Code of the Extraordinary Mind: A Summary\\n\\n**Introduction:**\\n- Author: Vishen Lakhiani\\n- Purpose: To unveil a code for living an extraordinary life, a code based on observations of successful individuals and personal growth principles.\\n\\n**Main Themes:**\\n- Transcending the Culturescape: Questioning outdated societal rules and beliefs (Brules).\\n- Consciousness Engineering: Upgrading our models of reality (beliefs) and systems for living (habits).\\n- Bending Reality: Achieving a balance between happiness in the present and a vision for the future.\\n- Becoming Unfuckwithable: Cultivating inner peace and self-love, becoming immune to external influences.\\n- Embracing Your Quest: Discovering your life\\u2019s mission and contributing to the world.\\n\\n**Chapter Summaries:**\\n\\n**Part I: Living in the Culturescape:**\\n- **Chapter 1: Transcend the Culturescape:** Explores the power of the culturescape, the set of rules and beliefs we inherit from society, and emphasizes the importance of questioning these rules.\\n- **Chapter 2: Question the Brules:** Identifies common Brules we often follow without questioning, like the need for a college degree or conforming to cultural norms. Encourages readers to analyze and discard limiting Brules.\\n\\n**Part II: The Awakening:**\\n- **Chapter 3: Practice Consciousness Engineering:** Introduces consciousness engineering, a framework for personal growth that focuses on upgrading our models of reality (beliefs) and systems for living (habits).\\n- **Chapter 4: Rewrite Your Models of Reality:** Explains how beliefs shape our reality and how to identify and replace disempowering beliefs with empowering ones. \\n- **Chapter 5: Upgrade Your Systems for Living:** Emphasizes the importance of constantly updating our systems for living (habits and practices) to optimize our lives.\\n\\n**Part III: Recoding Yourself:**\\n- **Chapter 6: Bend Reality:**  Introduces the concept of bending reality\\u2014achieving a state of happiness in the present moment while being driven by a vision for the future. \\n- **Chapter 7: Live in Blissipline:**  Explains the concept of Blissipline, the discipline of daily bliss, and introduces three key practices: gratitude, forgiveness, and giving. \\n- **Chapter 8: Create a Vision for Your Future:** Distinguishes between means goals (that are a means to an end) and end goals (that are intrinsically fulfilling). Introduces the Three Most Important Questions exercise to identify and pursue meaningful end goals.\\n\\n**Part IV: Becoming Extraordinary:**\\n- **Chapter 9: Be Unfuckwithable:**  Explores the importance of self-love and inner peace to become unfuckwithable\\u2014free from the need for external validation and unfazed by criticism or fear.\\n- **Chapter 10: Embrace Your Quest:**  Defines a calling as our contribution to the human race and encourages readers to identify their quest, a mission that gives their life meaning and propels them forward.\\n\\n**Key Insights:**\\n- Our beliefs (models of reality) are the foundation of our lives, and they are changeable.\\n- Happiness is a trainable skill, not a destination.\\n- True success comes from aligning our actions with a fulfilling mission (quest).\\n- The universe supports us when we are in alignment with our purpose. \\n\\n**Conclusion:**\\n- The Code of the Extraordinary Mind is a guide to self-discovery, empowerment, and living a life that is both fulfilling and impactful. \\n- By embracing the principles and practices outlined in the book, readers can break free from limiting beliefs, unlock their potential, and create a more meaningful and joyful life for themselves and the world.\\n\\n**The book concludes with tools and a daily practice called the Six-Phase Meditation, designed to integrate the key principles of the Code into a daily routine.** \\n\"\n",
       "              }\n",
       "            ],\n",
       "            \"role\": \"model\"\n",
       "          },\n",
       "          \"finish_reason\": 1,\n",
       "          \"index\": 0,\n",
       "          \"safety_ratings\": [\n",
       "            {\n",
       "              \"category\": 9,\n",
       "              \"probability\": 1,\n",
       "              \"blocked\": false\n",
       "            },\n",
       "            {\n",
       "              \"category\": 8,\n",
       "              \"probability\": 1,\n",
       "              \"blocked\": false\n",
       "            },\n",
       "            {\n",
       "              \"category\": 7,\n",
       "              \"probability\": 1,\n",
       "              \"blocked\": false\n",
       "            },\n",
       "            {\n",
       "              \"category\": 10,\n",
       "              \"probability\": 1,\n",
       "              \"blocked\": false\n",
       "            }\n",
       "          ],\n",
       "          \"token_count\": 0,\n",
       "          \"grounding_attributions\": []\n",
       "        }\n",
       "      ]\n",
       "    }),\n",
       ")"
      ]
     },
     "execution_count": 4,
     "metadata": {},
     "output_type": "execute_result"
    }
   ],
   "source": [
    "chat.send_message('Summarize the book I provided named The_Code_of_the_Extraordinary_Mind', stream=True)"
   ]
  },
  {
   "cell_type": "code",
   "execution_count": 9,
   "metadata": {},
   "outputs": [
    {
     "data": {
      "text/plain": [
       "[parts {\n",
       "   text: \"\\nIn this task, you will help me generate summary of each book provided using the Progressive Summarization technique which advocated by Tiago Forte. \\n\\n# Objective:\\nTo generate a concise and informative summary of an ebook, capturing the key themes, concepts, and takeaways from the text.\\n\\n# Steps:\\n## Read the Ebook:\\n- Carefully read the provided ebook content.\\n- Pay special attention to the introduction, conclusion, and chapter summaries as they often highlight the main points.\\n\\n## Identify Key Themes:\\n- Note recurring themes, concepts, and ideas.\\n- Identify the primary arguments or messages conveyed by the author.\\n\\n## Highlight Important Sections:\\n- Highlight sections that provide critical insights or unique perspectives.\\n- Focus on any data, anecdotes, or examples that support the main arguments.\\n\\n## Condense Information:\\n- Summarize each chapter or section into a few key points.\\n- Ensure that the summary captures the essence of the content without omitting essential information.\\n\\n## Synthesize the Summary:\\n- Combine the chapter summaries into a coherent narrative.\\n- Maintain logical flow and coherence throughout the summary.\\n\\n## Review and Refine:\\n- Review the summary to ensure it is accurate and complete.\\n- Refine the language for clarity and conciseness.\\n\\n# Key Points to Include:\\n##Introduction:\\n- Briefly introduce the ebook, including the title, author, and the main purpose of the book.\\n\\n## Main Themes:\\n- List the primary themes or concepts discussed in the book.\\n\\n## Chapter Summaries:\\n- Provide a brief summary of each chapter, focusing on the main ideas and key takeaways.\\n\\n## Key Insights:\\n- Highlight any significant insights, data points, or examples that are crucial to understanding the book\\'s message.\\n\\n## Conclusion:\\n- Summarize the overall conclusion or final thoughts of the book.\\n- Reflect on the implications or applications of the book’s content.\\n\\n# Formatting Guidelines:\\n- Use clear and concise language.\\n- The output must be Vietnamese, whatever the input book content\\'s language.\\n- Using markdown syntax to structure the summary with headings and bullet points for easy reading. \\n- Aim for a summary length that is proportional to the ebook’s length (e.g., a 200-page ebook might have a 2-3 page summary).\\n\\n## Example Template:\\n\\n```\\n# Introduction\\n- Title: [Ebook Title]\\n- Author: [Author Name]\\n- Brief introduction: Brief overview of the book’s purpose and scope.\\n\\n## Main Themes:\\n- Theme 1: [Description]\\n- Theme 2: [Description]\\n- Theme 3: [Description]\\n\\n## Chapter Summaries:\\n### Chapter 1: [Chapter Title]\\n- Executive Summary: The main message has been delivered in a whole chapter.\\n- Key points and takeaways which support to the main message.\\n- Raw quotes or notable highlights which elaborate more on key points\\n\\n(Repeat for each chapter)\\n\\n## Key Insights:\\n### Insight 1: \\n- [Detail]\\t\\n### Insight 2: \\n- [Detail]\\n## Conclusion:\\n- Overall summary of the book’s conclusion.\\n- Final thoughts and implications.\\n```\\n\\n# Tips:\\n- Focus on clarity and coherence.\\n- Avoid unnecessary details or overly complex language.\\n\"\n",
       " }\n",
       " parts {\n",
       "   file_data {\n",
       "     mime_type: \"text/plain\"\n",
       "     file_uri: \"https://generativelanguage.googleapis.com/v1beta/files/11fpyfbfp4c3\"\n",
       "   }\n",
       " }\n",
       " role: \"user\",\n",
       " parts {\n",
       "   text: \"Summarize the book I provided named The_Code_of_the_Extraordinary_Mind\"\n",
       " }\n",
       " role: \"user\",\n",
       " parts {\n",
       "   text: \"## The Code of the Extraordinary Mind: A Summary\\n\\n**Introduction:**\\n- Author: Vishen Lakhiani\\n- Purpose: To unveil a code for living an extraordinary life, a code based on observations of successful individuals and personal growth principles.\\n\\n**Main Themes:**\\n- Transcending the Culturescape: Questioning outdated societal rules and beliefs (Brules).\\n- Consciousness Engineering: Upgrading our models of reality (beliefs) and systems for living (habits).\\n- Bending Reality: Achieving a balance between happiness in the present and a vision for the future.\\n- Becoming Unfuckwithable: Cultivating inner peace and self-love, becoming immune to external influences.\\n- Embracing Your Quest: Discovering your life’s mission and contributing to the world.\\n\\n**Chapter Summaries:**\\n\\n**Part I: Living in the Culturescape:**\\n- **Chapter 1: Transcend the Culturescape:** Explores the power of the culturescape, the set of rules and beliefs we inherit from society, and emphasizes the importance of questioning these rules.\\n- **Chapter 2: Question the Brules:** Identifies common Brules we often follow without questioning, like the need for a college degree or conforming to cultural norms. Encourages readers to analyze and discard limiting Brules.\\n\\n**Part II: The Awakening:**\\n- **Chapter 3: Practice Consciousness Engineering:** Introduces consciousness engineering, a framework for personal growth that focuses on upgrading our models of reality (beliefs) and systems for living (habits).\\n- **Chapter 4: Rewrite Your Models of Reality:** Explains how beliefs shape our reality and how to identify and replace disempowering beliefs with empowering ones. \\n- **Chapter 5: Upgrade Your Systems for Living:** Emphasizes the importance of constantly updating our systems for living (habits and practices) to optimize our lives.\\n\\n**Part III: Recoding Yourself:**\\n- **Chapter 6: Bend Reality:**  Introduces the concept of bending reality—achieving a state of happiness in the present moment while being driven by a vision for the future. \\n- **Chapter 7: Live in Blissipline:**  Explains the concept of Blissipline, the discipline of daily bliss, and introduces three key practices: gratitude, forgiveness, and giving. \\n- **Chapter 8: Create a Vision for Your Future:** Distinguishes between means goals (that are a means to an end) and end goals (that are intrinsically fulfilling). Introduces the Three Most Important Questions exercise to identify and pursue meaningful end goals.\\n\\n**Part IV: Becoming Extraordinary:**\\n- **Chapter 9: Be Unfuckwithable:**  Explores the importance of self-love and inner peace to become unfuckwithable—free from the need for external validation and unfazed by criticism or fear.\\n- **Chapter 10: Embrace Your Quest:**  Defines a calling as our contribution to the human race and encourages readers to identify their quest, a mission that gives their life meaning and propels them forward.\\n\\n**Key Insights:**\\n- Our beliefs (models of reality) are the foundation of our lives, and they are changeable.\\n- Happiness is a trainable skill, not a destination.\\n- True success comes from aligning our actions with a fulfilling mission (quest).\\n- The universe supports us when we are in alignment with our purpose. \\n\\n**Conclusion:**\\n- The Code of the Extraordinary Mind is a guide to self-discovery, empowerment, and living a life that is both fulfilling and impactful. \\n- By embracing the principles and practices outlined in the book, readers can break free from limiting beliefs, unlock their potential, and create a more meaningful and joyful life for themselves and the world.\\n\\n**The book concludes with tools and a daily practice called the Six-Phase Meditation, designed to integrate the key principles of the Code into a daily routine.** \\n\"\n",
       " }\n",
       " role: \"model\"]"
      ]
     },
     "execution_count": 9,
     "metadata": {},
     "output_type": "execute_result"
    }
   ],
   "source": [
    "chat.history"
   ]
  },
  {
   "cell_type": "code",
   "execution_count": null,
   "metadata": {},
   "outputs": [],
   "source": []
  }
 ],
 "metadata": {
  "kernelspec": {
   "display_name": "Python 3",
   "language": "python",
   "name": "python3"
  },
  "language_info": {
   "codemirror_mode": {
    "name": "ipython",
    "version": 3
   },
   "file_extension": ".py",
   "mimetype": "text/x-python",
   "name": "python",
   "nbconvert_exporter": "python",
   "pygments_lexer": "ipython3",
   "version": "3.10.11"
  }
 },
 "nbformat": 4,
 "nbformat_minor": 2
}
